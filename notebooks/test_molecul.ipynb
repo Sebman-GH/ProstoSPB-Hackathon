{
 "cells": [
  {
   "cell_type": "code",
   "execution_count": 12,
   "metadata": {},
   "outputs": [],
   "source": [
    "import joblib\n",
    "import pandas as pd\n",
    "from rdkit import Chem\n",
    "from rdkit.Chem import Descriptors"
   ]
  },
  {
   "cell_type": "code",
   "execution_count": 13,
   "metadata": {},
   "outputs": [],
   "source": [
    "new_data = pd.read_csv('C:/Users/Таня/Desktop/просто/наше/ProstoSPB-Hackathon/notebooks//generated_molecules.csv')\n",
    "\n"
   ]
  },
  {
   "cell_type": "code",
   "execution_count": 14,
   "metadata": {},
   "outputs": [
    {
     "name": "stdout",
     "output_type": "stream",
     "text": [
      "Дескрипторы успешно извлечены и сохранены в 'new_data.csv'.\n"
     ]
    }
   ],
   "source": [
    "import pandas as pd\n",
    "from rdkit import Chem\n",
    "from rdkit.ML.Descriptors import MoleculeDescriptors\n",
    "\n",
    "def get_molecular_descriptors(smiles):\n",
    "    mol = Chem.MolFromSmiles(smiles)\n",
    "    if mol is None:\n",
    "        return [None] * len(descriptor_names) \n",
    "    descriptors = descriptor_calculator.CalcDescriptors(mol)\n",
    "    return descriptors\n",
    "\n",
    "descriptor_names = [desc[0] for desc in Chem.Descriptors._descList]\n",
    "descriptor_calculator = MoleculeDescriptors.MolecularDescriptorCalculator(descriptor_names)\n",
    "\n",
    "descriptors_df = new_data['SMILES'].apply(get_molecular_descriptors).apply(pd.Series)\n",
    "\n",
    "descriptors_df.columns = descriptor_names\n",
    "\n",
    "# Объединяем оригинальный DataFrame с новыми дескрипторами\n",
    "new_data = pd.concat([new_data, descriptors_df], axis=1)\n",
    "\n",
    "# Сохраняем результат в новый CSV файл\n",
    "new_data.to_csv('new_data.csv', index=False)\n",
    "\n",
    "print(\"Дескрипторы успешно извлечены и сохранены в 'new_data.csv'.\")"
   ]
  },
  {
   "cell_type": "markdown",
   "metadata": {},
   "source": [
    "проверяем токсичность"
   ]
  },
  {
   "cell_type": "code",
   "execution_count": 15,
   "metadata": {},
   "outputs": [],
   "source": [
    "new_data_1 = new_data[['MaxAbsEStateIndex', 'MaxEStateIndex', 'MinAbsEStateIndex',\n",
    "       'MinEStateIndex', 'qed', 'SPS', 'MolWt', 'HeavyAtomMolWt', 'ExactMolWt',\n",
    "       'NumValenceElectrons', 'MaxPartialCharge', 'MaxAbsPartialCharge',\n",
    "       'MinAbsPartialCharge', 'FpDensityMorgan1', 'FpDensityMorgan2',\n",
    "       'FpDensityMorgan3', 'BCUT2D_MWHI', 'BCUT2D_MWLOW', 'BCUT2D_CHGHI',\n",
    "       'BCUT2D_LOGPHI', 'BCUT2D_MRHI', 'BCUT2D_MRLOW', 'AvgIpc', 'BalabanJ',\n",
    "       'BertzCT', 'Chi0', 'Chi0n', 'Chi0v', 'Chi1', 'Chi1n', 'Chi1v', 'Chi2n',\n",
    "       'Chi2v', 'Chi3n', 'Chi3v', 'Chi4n', 'Chi4v', 'Ipc', 'Kappa1', 'Kappa2',\n",
    "       'Kappa3', 'LabuteASA', 'PEOE_VSA1', 'PEOE_VSA10', 'PEOE_VSA14',\n",
    "       'PEOE_VSA2', 'PEOE_VSA3', 'PEOE_VSA6', 'PEOE_VSA7', 'PEOE_VSA8',\n",
    "       'PEOE_VSA9', 'SMR_VSA1', 'SMR_VSA10', 'SMR_VSA3', 'SMR_VSA5',\n",
    "       'SMR_VSA6', 'SMR_VSA7', 'SMR_VSA9', 'SlogP_VSA1', 'SlogP_VSA10',\n",
    "       'SlogP_VSA12', 'SlogP_VSA2', 'SlogP_VSA3', 'SlogP_VSA4', 'SlogP_VSA5',\n",
    "       'SlogP_VSA6', 'TPSA', 'EState_VSA1', 'EState_VSA10']]"
   ]
  },
  {
   "cell_type": "code",
   "execution_count": 16,
   "metadata": {},
   "outputs": [
    {
     "name": "stdout",
     "output_type": "stream",
     "text": [
      "[1 1 1 0 1 1 0 0 1 0 1 1 1 0 1 0 1 1 1 1 1 1 0 0 1 1 1 1 1 1 0 1 1 0 0 0 0\n",
      " 1 1 1 1 1 1 1 1 1 1 1 0 0 1 1 1 0 0 1 1 1 0 1 1 0 1 0 0 0 0 1 1 0 1 1 1 1\n",
      " 1 0 0 1 0 1 0 0 0 1 0 0 1 1 1 0 1 0 1 0 0 1 1 0 1 1 1 1 1 0 1 1 1 1 1 1 0\n",
      " 0 1 1 1 1 0 1 1 0 0 0 1 1 1 1 0 1 1 1 0 1 1 0 1 1 1 0 1 1 1 0 1 0 0 1 0 0\n",
      " 0 0 0 1 1 1 0 1 1 1 1 1 0 0 1 1 1 1 1 1 1 1 1 1 0 0 1 1 1 0 1 1 0 1 1 1 0\n",
      " 0 1 0 1 1 1 0 0 1 1 1 1 0 0 1 0 1 0 0 1 1 0 1 1 1 1 1 1 1 1 1 0 1 0 1 1 1\n",
      " 1 1 0 1 0 0 1 1 0 1 1 0 1 0 0 1 0 0 1 1 1 1 1 1 1 1 1 1 1 0 0 0 0 1 1 1 1\n",
      " 1 1 1 0 0 1 1 0 0 1 1 0 1 1 1 1 0 1 1 1 1 1 1 1 1 0 1 0 1 1 0 0 1 1 1 0 0\n",
      " 1 1 1 1]\n"
     ]
    }
   ],
   "source": [
    "xgb_model_irritation = joblib.load('xgb_model_irritation.pkl')\n",
    "\n",
    "predictions_irritation = xgb_model_irritation.predict(new_data_1)\n",
    "new_data['predicted_irritation'] = predictions_irritation\n",
    "print(predictions_irritation)"
   ]
  },
  {
   "cell_type": "markdown",
   "metadata": {},
   "source": [
    "проверяем меланин"
   ]
  },
  {
   "cell_type": "code",
   "execution_count": 17,
   "metadata": {},
   "outputs": [],
   "source": [
    "new_data_2 = new_data[['MaxAbsEStateIndex', 'MaxEStateIndex', 'MinAbsEStateIndex',\n",
    "       'MinEStateIndex', 'qed', 'SPS', 'MolWt', 'HeavyAtomMolWt', 'ExactMolWt',\n",
    "       'NumValenceElectrons', 'MaxPartialCharge', 'MaxAbsPartialCharge',\n",
    "       'MinAbsPartialCharge', 'FpDensityMorgan1', 'FpDensityMorgan2',\n",
    "       'FpDensityMorgan3', 'BCUT2D_MWHI', 'BCUT2D_MWLOW', 'BCUT2D_CHGHI',\n",
    "       'BCUT2D_LOGPHI', 'BCUT2D_MRHI', 'BCUT2D_MRLOW', 'AvgIpc', 'BalabanJ',\n",
    "       'BertzCT', 'Chi0', 'Chi0n', 'Chi0v', 'Chi1', 'Chi1n', 'Chi1v', 'Chi2n',\n",
    "       'Chi2v', 'Chi3n', 'Chi3v', 'Chi4n', 'Chi4v', 'Ipc', 'Kappa1', 'Kappa2',\n",
    "       'Kappa3', 'LabuteASA', 'PEOE_VSA1', 'PEOE_VSA10', 'PEOE_VSA11',\n",
    "       'PEOE_VSA12', 'PEOE_VSA13', 'PEOE_VSA2', 'PEOE_VSA3', 'PEOE_VSA5',\n",
    "       'PEOE_VSA6', 'PEOE_VSA7', 'PEOE_VSA8', 'PEOE_VSA9', 'SMR_VSA1',\n",
    "       'SMR_VSA10', 'SMR_VSA3', 'SMR_VSA4', 'SMR_VSA5', 'SMR_VSA6', 'SMR_VSA7',\n",
    "       'SMR_VSA9', 'SlogP_VSA1', 'SlogP_VSA10', 'SlogP_VSA11', 'SlogP_VSA12',\n",
    "       'SlogP_VSA2', 'SlogP_VSA3', 'SlogP_VSA4', 'SlogP_VSA5', 'SlogP_VSA6',\n",
    "       'SlogP_VSA8', 'TPSA', 'EState_VSA1', 'EState_VSA10', 'EState_VSA2',\n",
    "       'EState_VSA3', 'EState_VSA4', 'EState_VSA5', 'EState_VSA6',\n",
    "       'EState_VSA7', 'EState_VSA8', 'EState_VSA9', 'VSA_EState1',\n",
    "       'VSA_EState10', 'VSA_EState2', 'VSA_EState3', 'VSA_EState4']]"
   ]
  },
  {
   "cell_type": "code",
   "execution_count": 18,
   "metadata": {},
   "outputs": [
    {
     "name": "stdout",
     "output_type": "stream",
     "text": [
      "[1 1 1 1 1 1 1 1 1 1 1 1 1 1 1 1 1 1 1 1 1 1 1 1 1 1 1 1 1 1 1 1 1 1 1 1 1\n",
      " 1 1 1 1 1 1 1 1 1 1 1 1 1 1 1 1 1 1 1 1 1 1 1 1 1 1 1 1 1 1 1 1 1 1 1 1 1\n",
      " 1 1 1 1 1 1 1 1 1 1 1 1 1 1 1 1 1 1 1 1 1 1 1 1 1 1 1 1 1 1 1 1 1 1 1 1 1\n",
      " 1 1 1 1 1 1 1 1 1 1 1 1 1 1 1 1 1 1 1 1 1 1 1 1 1 1 1 1 1 1 1 1 1 1 1 1 1\n",
      " 1 1 1 1 1 1 1 1 1 1 1 1 1 1 1 1 1 1 1 1 1 1 1 1 1 1 1 1 1 1 1 1 1 1 1 1 1\n",
      " 1 1 1 1 1 1 1 1 1 1 1 1 1 1 1 1 1 1 1 1 1 1 1 1 1 1 1 1 1 1 1 1 1 1 1 1 1\n",
      " 1 1 1 1 1 1 1 1 1 1 1 1 1 1 1 1 1 1 1 1 1 1 1 1 1 1 1 1 1 1 1 1 1 1 1 1 1\n",
      " 1 1 1 1 1 1 1 1 1 1 1 1 1 1 1 1 1 1 1 1 1 1 1 1 1 1 1 1 1 1 1 1 1 1 1 1 1\n",
      " 1 1 1 1]\n"
     ]
    }
   ],
   "source": [
    "xgb_model_melanin = joblib.load('xgb_model_melanin.pkl')\n",
    "\n",
    "predictions_melanin = xgb_model_melanin.predict(new_data_2)\n",
    "new_data['predicted_melanin'] = predictions_melanin\n",
    "print(predictions_melanin)"
   ]
  },
  {
   "cell_type": "code",
   "execution_count": 19,
   "metadata": {},
   "outputs": [
    {
     "name": "stdout",
     "output_type": "stream",
     "text": [
      "                                                SMILES Docking_Status  \\\n",
      "0        O=C(O)C1CCCC([*:1]Cl)C1[*:2]C(F)(C[*:1])[*:3]  Not attempted   \n",
      "1                         OC1CC([*:1]C2CCCCC2)CC1[*:2]  Not attempted   \n",
      "2                               S=C([*:1])[*:2]C1CCCC1  Not attempted   \n",
      "3     O=C(O[*:2]c1cc([*:1])co1)C1CCCC([*:1]N2CCOCC2)C1  Not attempted   \n",
      "4                            CCCC[*:1]C(c1ccccc1)[*:2]  Not attempted   \n",
      "..                                                 ...            ...   \n",
      "295   CC(CC1CCCC([*:1]c2ccnc([*:2])c2)C1)(N[*:2])[*:1]  Not attempted   \n",
      "296                              C1CCC([*:1]NC2CC2)CC1  Not attempted   \n",
      "297  Cn1ncc2c1CC([*:1])CC2[*:2]C1CCCC([*:1]C2CCCCC2...  Not attempted   \n",
      "298                    c1ccc(C([*:1]c2ccccc2)[*:2])cc1  Not attempted   \n",
      "299                        CCC(C)[*:1]CNS(=O)(=O)[*:2]  Not attempted   \n",
      "\n",
      "     MaxAbsEStateIndex  MaxEStateIndex  MinAbsEStateIndex  MinEStateIndex  \\\n",
      "0            14.426946       14.426946           0.157012       -1.974630   \n",
      "1             9.800086        9.800086           0.176936       -0.870278   \n",
      "2             5.254352        5.254352           0.503981       -0.754630   \n",
      "3            12.424399       12.424399           0.107381       -2.060553   \n",
      "4             2.357750        2.357750           0.579823       -0.726296   \n",
      "..                 ...             ...                ...             ...   \n",
      "295           4.465463        4.465463           0.297638       -1.147084   \n",
      "296           3.876296        3.876296           0.813148       -0.813148   \n",
      "297           4.666049        4.666049           0.516530       -1.141328   \n",
      "298           2.345000        2.345000           0.467740       -1.115185   \n",
      "299          10.741068       10.741068           0.545913       -2.665512   \n",
      "\n",
      "          qed        SPS    MolWt  HeavyAtomMolWt  ...  fr_term_acetylene  \\\n",
      "0    0.751171  44.000000  206.644         194.548  ...                0.0   \n",
      "1    0.669674  47.416667  167.272         148.120  ...                0.0   \n",
      "2    0.494902  27.142857  113.205         104.133  ...                0.0   \n",
      "3    0.801881  30.500000  278.328         258.168  ...                0.0   \n",
      "4    0.558708  15.545455  147.241         132.121  ...                0.0   \n",
      "..        ...        ...      ...             ...  ...                ...   \n",
      "295  0.807667  33.187500  215.320         196.168  ...                0.0   \n",
      "296  0.633109  30.400000  139.242         122.106  ...                0.0   \n",
      "297  0.604231  38.391304  313.509         280.245  ...                0.0   \n",
      "298  0.658900  14.615385  167.231         156.143  ...                0.0   \n",
      "299  0.624508  18.666667  150.223         138.127  ...                0.0   \n",
      "\n",
      "     fr_tetrazole  fr_thiazole  fr_thiocyan  fr_thiophene  fr_unbrch_alkane  \\\n",
      "0             0.0          0.0          0.0           0.0               0.0   \n",
      "1             0.0          0.0          0.0           0.0               0.0   \n",
      "2             0.0          0.0          0.0           0.0               0.0   \n",
      "3             0.0          0.0          0.0           0.0               0.0   \n",
      "4             0.0          0.0          0.0           0.0               1.0   \n",
      "..            ...          ...          ...           ...               ...   \n",
      "295           0.0          0.0          0.0           0.0               0.0   \n",
      "296           0.0          0.0          0.0           0.0               0.0   \n",
      "297           0.0          0.0          0.0           0.0               0.0   \n",
      "298           0.0          0.0          0.0           0.0               0.0   \n",
      "299           0.0          0.0          0.0           0.0               0.0   \n",
      "\n",
      "     fr_urea  predicted_irritation  predicted_melanin    logP  \n",
      "0        0.0                     1                  1  2.9121  \n",
      "1        0.0                     1                  1  3.1050  \n",
      "2        0.0                     1                  1  2.2681  \n",
      "3        0.0                     0                  1  0.9336  \n",
      "4        0.0                     1                  1  3.5379  \n",
      "..       ...                   ...                ...     ...  \n",
      "295      0.0                     0                  1  1.6547  \n",
      "296      0.0                     1                  1  2.4910  \n",
      "297      0.0                     1                  1  6.2089  \n",
      "298      0.0                     1                  1  2.6450  \n",
      "299      0.0                     1                  1  0.6310  \n",
      "\n",
      "[300 rows x 222 columns]\n"
     ]
    }
   ],
   "source": [
    "# Рассчитываем logP и сохраняем в новый столбец\n",
    "new_data['logP'] = new_data['SMILES'].apply(lambda x: Descriptors.MolLogP(Chem.MolFromSmiles(x)) if Chem.MolFromSmiles(x) is not None else None)\n",
    "\n",
    "# Выводим DataFrame с результатами\n",
    "print(new_data)"
   ]
  },
  {
   "cell_type": "code",
   "execution_count": 20,
   "metadata": {},
   "outputs": [
    {
     "name": "stdout",
     "output_type": "stream",
     "text": [
      "                                                SMILES Docking_Status  \\\n",
      "3     O=C(O[*:2]c1cc([*:1])co1)C1CCCC([*:1]N2CCOCC2)C1  Not attempted   \n",
      "7    c1sc([*:2])nc1[*:1]C1CCOC1CC(C(N[*:2])[*:3])[*:1]  Not attempted   \n",
      "15       O=C([O-])C1C=C([*:1]OC(=O)C2CCCCC2)C([*:2])C1  Not attempted   \n",
      "23      O=C(OCCC1CCCC1[*:2]c1ccnc2c([*:1])cccc12)[*:1]  Not attempted   \n",
      "30     O=C(N[*:1]C1CCN([*:1]C(=N[*:2])[*:3])CC1)N[*:2]  Not attempted   \n",
      "..                                                 ...            ...   \n",
      "286  CCC(C)[*:1](CC(C(N[*:2])C(=O)[*:3])[*:1])c1ccc...  Not attempted   \n",
      "289  O=C(CS[*:2][*:2](c1ccc([*:1])c(Cl)c1)C1CCCCN1)...  Not attempted   \n",
      "290                        c1cc([*:2])sc1[*:1]C1CCCCN1  Not attempted   \n",
      "294                  CCC(C)[*:2]c1cc2c(c([*:1])c1)OCO2  Not attempted   \n",
      "295   CC(CC1CCCC([*:1]c2ccnc([*:2])c2)C1)(N[*:2])[*:1]  Not attempted   \n",
      "\n",
      "     MaxAbsEStateIndex  MaxEStateIndex  MinAbsEStateIndex  MinEStateIndex  \\\n",
      "3            12.424399       12.424399           0.107381       -2.060553   \n",
      "7             6.124058        6.124058           0.333553       -1.266101   \n",
      "15           11.981683       11.981683           0.018241       -2.098464   \n",
      "23           11.071899       11.071899           0.106195       -1.466657   \n",
      "30           11.207312       11.207312           0.030139       -1.373293   \n",
      "..                 ...             ...                ...             ...   \n",
      "286          12.038990       12.038990           0.077700       -2.494424   \n",
      "289          11.574720       11.574720           0.011809       -2.187263   \n",
      "290           3.715010        3.715010           0.473590       -0.999815   \n",
      "294           5.492922        5.492922           0.213068       -1.148472   \n",
      "295           4.465463        4.465463           0.297638       -1.147084   \n",
      "\n",
      "          qed        SPS    MolWt  HeavyAtomMolWt  ...  fr_term_acetylene  \\\n",
      "3    0.801881  30.500000  278.328         258.168  ...                0.0   \n",
      "7    0.728061  36.571429  208.286         196.190  ...                0.0   \n",
      "15   0.732750  31.529412  236.267         220.139  ...                0.0   \n",
      "23   0.835880  24.200000  267.328         250.192  ...                0.0   \n",
      "30   0.579085  28.000000  167.192         156.104  ...                0.0   \n",
      "..        ...        ...      ...             ...  ...                ...   \n",
      "286  0.539686  19.789474  261.301         244.165  ...                0.0   \n",
      "289  0.821177  23.388889  283.804         267.676  ...                0.0   \n",
      "290  0.682840  28.000000  166.269         154.173  ...                0.0   \n",
      "294  0.696541  18.153846  177.223         164.119  ...                0.0   \n",
      "295  0.807667  33.187500  215.320         196.168  ...                0.0   \n",
      "\n",
      "     fr_tetrazole  fr_thiazole  fr_thiocyan  fr_thiophene  fr_unbrch_alkane  \\\n",
      "3             0.0          0.0          0.0           0.0               0.0   \n",
      "7             0.0          1.0          0.0           0.0               0.0   \n",
      "15            0.0          0.0          0.0           0.0               0.0   \n",
      "23            0.0          0.0          0.0           0.0               0.0   \n",
      "30            0.0          0.0          0.0           0.0               0.0   \n",
      "..            ...          ...          ...           ...               ...   \n",
      "286           0.0          0.0          0.0           0.0               0.0   \n",
      "289           0.0          0.0          0.0           0.0               0.0   \n",
      "290           0.0          0.0          0.0           1.0               0.0   \n",
      "294           0.0          0.0          0.0           0.0               0.0   \n",
      "295           0.0          0.0          0.0           0.0               0.0   \n",
      "\n",
      "     fr_urea  predicted_irritation  predicted_melanin    logP  \n",
      "3        0.0                     0                  1  0.9336  \n",
      "7        0.0                     0                  1  0.2626  \n",
      "15       0.0                     0                  1  1.1014  \n",
      "23       0.0                     0                  1  2.7843  \n",
      "30       1.0                     0                  1  0.0038  \n",
      "..       ...                   ...                ...     ...  \n",
      "286      0.0                     0                  1  1.4883  \n",
      "289      0.0                     0                  1  1.0889  \n",
      "290      0.0                     0                  1  0.7326  \n",
      "294      0.0                     0                  1  1.5186  \n",
      "295      0.0                     0                  1  1.6547  \n",
      "\n",
      "[81 rows x 222 columns]\n",
      "Отфильтрованный датасет сохранен в файл 'filtered_data.csv'.\n"
     ]
    }
   ],
   "source": [
    "import pandas as pd\n",
    "\n",
    "# Фильтрация строк по условиям\n",
    "filtered_data = new_data.loc[\n",
    "    (new_data['predicted_melanin'] == 1) &\n",
    "    (new_data['predicted_irritation'] == 0) &\n",
    "    (new_data['logP'] < 3)\n",
    "]\n",
    "\n",
    "# Вывод отфильтрованного DataFrame\n",
    "print(filtered_data)\n",
    "\n",
    "# Запись отфильтрованного DataFrame в новый CSV файл\n",
    "filtered_data.to_csv('filtered_data.csv', index=False)\n",
    "\n",
    "# Вывод сообщения о завершении\n",
    "print(\"Отфильтрованный датасет сохранен в файл 'filtered_data.csv'.\")"
   ]
  },
  {
   "cell_type": "code",
   "execution_count": null,
   "metadata": {},
   "outputs": [],
   "source": []
  }
 ],
 "metadata": {
  "kernelspec": {
   "display_name": "Python 3",
   "language": "python",
   "name": "python3"
  },
  "language_info": {
   "codemirror_mode": {
    "name": "ipython",
    "version": 3
   },
   "file_extension": ".py",
   "mimetype": "text/x-python",
   "name": "python",
   "nbconvert_exporter": "python",
   "pygments_lexer": "ipython3",
   "version": "3.11.9"
  }
 },
 "nbformat": 4,
 "nbformat_minor": 2
}
